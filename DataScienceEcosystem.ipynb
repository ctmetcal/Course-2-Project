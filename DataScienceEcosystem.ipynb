{
 "cells": [
  {
   "cell_type": "markdown",
   "id": "d80b5c34-b0b5-438e-9773-5f90954490bb",
   "metadata": {},
   "source": [
    "# Data Science Tools and Ecosystem"
   ]
  },
  {
   "cell_type": "markdown",
   "id": "8c8f25fb-d8e2-4b01-b4ba-5a4ee979e444",
   "metadata": {},
   "source": [
    "## Author:\n",
    "### Chris M."
   ]
  },
  {
   "cell_type": "markdown",
   "id": "e2b009cd-b246-4d06-94d3-cfe3bdf219cd",
   "metadata": {},
   "source": [
    "## In this notebook, Data Science Tools and Ecosystems are summarized."
   ]
  },
  {
   "cell_type": "markdown",
   "id": "f6554f26-b60d-48c1-a879-fc8c1cc5fe2c",
   "metadata": {},
   "source": [
    "**Objectives:**\n",
    "* Identify popular languages\n",
    "* Identify commonly used libraries\n",
    "* Execute Code"
   ]
  },
  {
   "cell_type": "markdown",
   "id": "5c146bfe-f52f-40bc-9f6a-0030669a9edb",
   "metadata": {},
   "source": [
    "### Some of the popular languages that Data Scientists use are:\n",
    "1. Python\n",
    "2. SQL\n",
    "3. R"
   ]
  },
  {
   "cell_type": "markdown",
   "id": "4a3e15fb-e791-42d7-8cf4-875110e59052",
   "metadata": {},
   "source": [
    "### Some of the commonly used libraries used by Data Scientists include:\n",
    "1. NumPy\n",
    "2. Pandas\n",
    "3. Matplotlib"
   ]
  },
  {
   "cell_type": "markdown",
   "id": "2c87e4e7-8ee9-4d19-b448-7dea128b5f84",
   "metadata": {},
   "source": [
    "| Data Science Tools |\r\n",
    "|--------------------|\r",
    "| Jupyter Notebook  | \r\n",
    "| RStudio            | \r\n",
    "| TensorFlow         |"
   ]
  },
  {
   "cell_type": "markdown",
   "id": "def85d96-16be-4824-94d0-d7202ecc5991",
   "metadata": {},
   "source": [
    "### Below are a few examples of evaluating arithmetic expressions in Python"
   ]
  },
  {
   "cell_type": "code",
   "execution_count": 42,
   "id": "8dec20b8-2f68-40b8-ba28-08950471602f",
   "metadata": {},
   "outputs": [
    {
     "data": {
      "text/plain": [
       "17"
      ]
     },
     "execution_count": 42,
     "metadata": {},
     "output_type": "execute_result"
    }
   ],
   "source": [
    "# This a simple arithmetic expression to mutiply then add integers:\n",
    "(3*4)+5"
   ]
  },
  {
   "cell_type": "code",
   "execution_count": 43,
   "id": "68e1e2e6-1b43-4582-9138-5233856ac845",
   "metadata": {},
   "outputs": [
    {
     "data": {
      "text/plain": [
       "3.3333333333333335"
      ]
     },
     "execution_count": 43,
     "metadata": {},
     "output_type": "execute_result"
    }
   ],
   "source": [
    "# This will convert 200 minutes to hours by diving by 60:\n",
    "200/60"
   ]
  },
  {
   "cell_type": "code",
   "execution_count": null,
   "id": "8d1ed075-6f3b-4c12-9e9e-3eea081e33e8",
   "metadata": {},
   "outputs": [],
   "source": []
  }
 ],
 "metadata": {
  "kernelspec": {
   "display_name": "Python 3 (ipykernel)",
   "language": "python",
   "name": "python3"
  },
  "language_info": {
   "codemirror_mode": {
    "name": "ipython",
    "version": 3
   },
   "file_extension": ".py",
   "mimetype": "text/x-python",
   "name": "python",
   "nbconvert_exporter": "python",
   "pygments_lexer": "ipython3",
   "version": "3.12.4"
  }
 },
 "nbformat": 4,
 "nbformat_minor": 5
}
